{
 "cells": [
  {
   "cell_type": "code",
   "execution_count": 1,
   "id": "ac48c510",
   "metadata": {},
   "outputs": [],
   "source": [
    "from moduels import algorithms\n",
    "import pandas as pd\n",
    "#import numpy as np\n",
    "#import scipy\n",
    "#from sklearn.neighbors import KDTree\n",
    "import matplotlib.pyplot as plt\n",
    "import seaborn as sns\n",
    "\n",
    "from moduels import parseCSVtoDataset as parser\n",
    "#import csv\n",
    "#import time\n",
    "#import datetime\n",
    "import warnings\n",
    "warnings.filterwarnings(\"ignore\")\n",
    "\n",
    "from sklearn.linear_model import LinearRegression\n",
    "from sklearn.metrics import r2_score\n",
    "from sklearn.model_selection import train_test_split"
   ]
  },
  {
   "cell_type": "markdown",
   "id": "6706034d",
   "metadata": {},
   "source": [
    "# Prepering The Data"
   ]
  },
  {
   "cell_type": "code",
   "execution_count": 2,
   "id": "3b8ef8cb",
   "metadata": {},
   "outputs": [],
   "source": [
    "parser.brazilian_houses_to_data_set(\"data/brazilian_houses.csv\", \"datasets/brazilian_houses_dataset.csv\")\n",
    "parser.COVID_symptoms_to_data_set(\"data/COVID_symptoms.csv\", \"datasets/COVID_symptoms_dataset.csv\")\n",
    "parser.goodreads_books_to_data_set(\"data/goodreads_books.csv\", \"datasets/goodreads_books_dataset.csv\")\n",
    "#parser.Jan_flight_delay_to_data_set(\"data/jan_flight_delay.csv\", \"datasets/jan_flight_delay_dataset.csv\")"
   ]
  },
  {
   "cell_type": "code",
   "execution_count": 3,
   "id": "b91d9272",
   "metadata": {},
   "outputs": [],
   "source": [
    "parser.copy_without_header(\"datasets/brazilian_houses_dataset.csv\", \"datasets_no_headers/brazilian_houses_dataset_no_header.csv\")\n",
    "parser.copy_without_header(\"datasets/COVID_symptoms_dataset.csv\", \"datasets_no_headers/COVID_symptoms_dataset_no_header.csv\")\n",
    "parser.copy_without_header(\"datasets/goodreads_books_dataset.csv\", \"datasets_no_headers/goodreads_books_dataset_no_header.csv\")\n",
    "#parser.copy_without_header(\"datasets/jan_flight_delay_dataset.csv\", \"datasets_no_headers/jan_flight_delay_dataset_no_header.csv\")"
   ]
  },
  {
   "cell_type": "markdown",
   "id": "fc8e6ce7",
   "metadata": {},
   "source": [
    "# Brazilian Houses - Use Example"
   ]
  },
  {
   "cell_type": "markdown",
   "id": "b09eaf32",
   "metadata": {},
   "source": [
    "## Tree Algorithm"
   ]
  },
  {
   "cell_type": "markdown",
   "id": "bf734ce1",
   "metadata": {},
   "source": [
    "Notes:\n",
    "- The dataset should contain a header\n",
    "- The dataset should not contain an index"
   ]
  },
  {
   "cell_type": "code",
   "execution_count": 4,
   "id": "bdc3db23",
   "metadata": {},
   "outputs": [],
   "source": [
    "old_dataset_path = \"datasets_no_headers/brazilian_houses_dataset_no_header.csv\"\n",
    "new_dataset_path = \"datasets_cleaned/brazilian_houses_dataset_no_header_cleaned.csv\"\n",
    "delimiter = ','\n",
    "metric = \"euclidean\"\n",
    "k = 5\n",
    "n = 1000\n",
    "\n",
    "tree_algorithm = algorithms.TreeCleaningAlgorithm(old_dataset_path, delimiter, metric, k, n)\n",
    "outlier_indices = tree_algorithm.get_outliers_indices()\n",
    "tree_algorithm.copy_without_outliers(new_dataset_path)"
   ]
  },
  {
   "cell_type": "markdown",
   "id": "ab095dbc",
   "metadata": {},
   "source": [
    "## Outlier Visualiztion"
   ]
  },
  {
   "cell_type": "code",
   "execution_count": 5,
   "id": "c069a2b3",
   "metadata": {
    "scrolled": true
   },
   "outputs": [
    {
     "data": {
      "image/png": "[encoded data removed]",
      "text/plain": [
       "<Figure size 432x288 with 1 Axes>"
      ]
     },
     "metadata": {
      "needs_background": "light"
     },
     "output_type": "display_data"
    }
   ],
   "source": [
    "tree_algorithm.visualize_outliers(outlier_indices, [[8, 11]])"
   ]
  },
  {
   "cell_type": "markdown",
   "id": "ee01a368",
   "metadata": {},
   "source": [
    "## Experimental Results"
   ]
  },
  {
   "cell_type": "markdown",
   "id": "3e7cd12c",
   "metadata": {},
   "source": [
    "#### Dataset settings"
   ]
  },
  {
   "cell_type": "code",
   "execution_count": 6,
   "id": "6ac68d0a",
   "metadata": {},
   "outputs": [],
   "source": [
    "path_houses = \"datasets/brazilian_houses_dataset.csv\"\n",
    "houses_y = \"total\"\n",
    "houses_col = ['area', 'rooms', 'bathroom', 'parkingSpaces', 'floor', 'animal',\n",
    "              'furniture', 'hoa', 'rentAmount', 'propertyTax', 'fireInsurance', 'total']\n",
    "id_name = None"
   ]
  },
  {
   "cell_type": "markdown",
   "id": "72cb3c0f",
   "metadata": {},
   "source": [
    "#### Reading the csv"
   ]
  },
  {
   "cell_type": "code",
   "execution_count": 7,
   "id": "44849422",
   "metadata": {},
   "outputs": [],
   "source": [
    "dtf_houses = parser.read_csv_to_df(path_houses, id_name, houses_col)\n",
    "dtf_clean_houses = pd.read_csv(new_dataset_path, header=None, low_memory=False)\n",
    "dtf_clean_houses.columns = houses_col"
   ]
  },
  {
   "cell_type": "markdown",
   "id": "2092070f",
   "metadata": {},
   "source": [
    "#### Describe Table - Original"
   ]
  },
  {
   "cell_type": "code",
   "execution_count": 8,
   "id": "2ba66519",
   "metadata": {},
   "outputs": [
    {
     "data": {
      "text/html": [
       "<div>\n",
       "<style scoped>\n",
       "    .dataframe tbody tr th:only-of-type {\n",
       "        vertical-align: middle;\n",
       "    }\n",
       "\n",
       "    .dataframe tbody tr th {\n",
       "        vertical-align: top;\n",
       "    }\n",
       "\n",
       "    .dataframe thead th {\n",
       "        text-align: right;\n",
       "    }\n",
       "</style>\n",
       "<table border=\"1\" class=\"dataframe\">\n",
       "  <thead>\n",
       "    <tr style=\"text-align: right;\">\n",
       "      <th></th>\n",
       "      <th>area</th>\n",
       "      <th>rooms</th>\n",
       "      <th>bathroom</th>\n",
       "      <th>parkingSpaces</th>\n",
       "      <th>floor</th>\n",
       "      <th>animal</th>\n",
       "      <th>furniture</th>\n",
       "      <th>hoa</th>\n",
       "      <th>rentAmount</th>\n",
       "      <th>propertyTax</th>\n",
       "      <th>fireInsurance</th>\n",
       "      <th>total</th>\n",
       "    </tr>\n",
       "  </thead>\n",
       "  <tbody>\n",
       "    <tr>\n",
       "      <th>count</th>\n",
       "      <td>10692.000000</td>\n",
       "      <td>10692.000000</td>\n",
       "      <td>10692.000000</td>\n",
       "      <td>10692.000000</td>\n",
       "      <td>10692.000000</td>\n",
       "      <td>10692.000000</td>\n",
       "      <td>10692.000000</td>\n",
       "      <td>1.069200e+04</td>\n",
       "      <td>10692.000000</td>\n",
       "      <td>10692.000000</td>\n",
       "      <td>10692.000000</td>\n",
       "      <td>1.069200e+04</td>\n",
       "    </tr>\n",
       "    <tr>\n",
       "      <th>mean</th>\n",
       "      <td>149.217920</td>\n",
       "      <td>2.506079</td>\n",
       "      <td>2.236813</td>\n",
       "      <td>1.609147</td>\n",
       "      <td>5.067995</td>\n",
       "      <td>0.777778</td>\n",
       "      <td>0.243734</td>\n",
       "      <td>1.174022e+03</td>\n",
       "      <td>3896.247194</td>\n",
       "      <td>366.704358</td>\n",
       "      <td>53.300879</td>\n",
       "      <td>5.490487e+03</td>\n",
       "    </tr>\n",
       "    <tr>\n",
       "      <th>std</th>\n",
       "      <td>537.016942</td>\n",
       "      <td>1.171266</td>\n",
       "      <td>1.407198</td>\n",
       "      <td>1.589521</td>\n",
       "      <td>6.069050</td>\n",
       "      <td>0.415759</td>\n",
       "      <td>0.429354</td>\n",
       "      <td>1.559231e+04</td>\n",
       "      <td>3408.545518</td>\n",
       "      <td>3107.832321</td>\n",
       "      <td>47.768031</td>\n",
       "      <td>1.648473e+04</td>\n",
       "    </tr>\n",
       "    <tr>\n",
       "      <th>min</th>\n",
       "      <td>11.000000</td>\n",
       "      <td>1.000000</td>\n",
       "      <td>1.000000</td>\n",
       "      <td>0.000000</td>\n",
       "      <td>0.000000</td>\n",
       "      <td>0.000000</td>\n",
       "      <td>0.000000</td>\n",
       "      <td>0.000000e+00</td>\n",
       "      <td>450.000000</td>\n",
       "      <td>0.000000</td>\n",
       "      <td>3.000000</td>\n",
       "      <td>4.990000e+02</td>\n",
       "    </tr>\n",
       "    <tr>\n",
       "      <th>25%</th>\n",
       "      <td>56.000000</td>\n",
       "      <td>2.000000</td>\n",
       "      <td>1.000000</td>\n",
       "      <td>0.000000</td>\n",
       "      <td>1.000000</td>\n",
       "      <td>1.000000</td>\n",
       "      <td>0.000000</td>\n",
       "      <td>1.700000e+02</td>\n",
       "      <td>1530.000000</td>\n",
       "      <td>38.000000</td>\n",
       "      <td>21.000000</td>\n",
       "      <td>2.061750e+03</td>\n",
       "    </tr>\n",
       "    <tr>\n",
       "      <th>50%</th>\n",
       "      <td>90.000000</td>\n",
       "      <td>2.000000</td>\n",
       "      <td>2.000000</td>\n",
       "      <td>1.000000</td>\n",
       "      <td>3.000000</td>\n",
       "      <td>1.000000</td>\n",
       "      <td>0.000000</td>\n",
       "      <td>5.600000e+02</td>\n",
       "      <td>2661.000000</td>\n",
       "      <td>125.000000</td>\n",
       "      <td>36.000000</td>\n",
       "      <td>3.581500e+03</td>\n",
       "    </tr>\n",
       "    <tr>\n",
       "      <th>75%</th>\n",
       "      <td>182.000000</td>\n",
       "      <td>3.000000</td>\n",
       "      <td>3.000000</td>\n",
       "      <td>2.000000</td>\n",
       "      <td>8.000000</td>\n",
       "      <td>1.000000</td>\n",
       "      <td>0.000000</td>\n",
       "      <td>1.237500e+03</td>\n",
       "      <td>5000.000000</td>\n",
       "      <td>375.000000</td>\n",
       "      <td>68.000000</td>\n",
       "      <td>6.768000e+03</td>\n",
       "    </tr>\n",
       "    <tr>\n",
       "      <th>max</th>\n",
       "      <td>46335.000000</td>\n",
       "      <td>13.000000</td>\n",
       "      <td>10.000000</td>\n",
       "      <td>12.000000</td>\n",
       "      <td>301.000000</td>\n",
       "      <td>1.000000</td>\n",
       "      <td>1.000000</td>\n",
       "      <td>1.117000e+06</td>\n",
       "      <td>45000.000000</td>\n",
       "      <td>313700.000000</td>\n",
       "      <td>677.000000</td>\n",
       "      <td>1.120000e+06</td>\n",
       "    </tr>\n",
       "  </tbody>\n",
       "</table>\n",
       "</div>"
      ],
      "text/plain": [
       "               area         rooms      bathroom  parkingSpaces         floor  \\\n",
       "count  10692.000000  10692.000000  10692.000000   10692.000000  10692.000000   \n",
       "mean     149.217920      2.506079      2.236813       1.609147      5.067995   \n",
       "std      537.016942      1.171266      1.407198       1.589521      6.069050   \n",
       "min       11.000000      1.000000      1.000000       0.000000      0.000000   \n",
       "25%       56.000000      2.000000      1.000000       0.000000      1.000000   \n",
       "50%       90.000000      2.000000      2.000000       1.000000      3.000000   \n",
       "75%      182.000000      3.000000      3.000000       2.000000      8.000000   \n",
       "max    46335.000000     13.000000     10.000000      12.000000    301.000000   \n",
       "\n",
       "             animal     furniture           hoa    rentAmount    propertyTax  \\\n",
       "count  10692.000000  10692.000000  1.069200e+04  10692.000000   10692.000000   \n",
       "mean       0.777778      0.243734  1.174022e+03   3896.247194     366.704358   \n",
       "std        0.415759      0.429354  1.559231e+04   3408.545518    3107.832321   \n",
       "min        0.000000      0.000000  0.000000e+00    450.000000       0.000000   \n",
       "25%        1.000000      0.000000  1.700000e+02   1530.000000      38.000000   \n",
       "50%        1.000000      0.000000  5.600000e+02   2661.000000     125.000000   \n",
       "75%        1.000000      0.000000  1.237500e+03   5000.000000     375.000000   \n",
       "max        1.000000      1.000000  1.117000e+06  45000.000000  313700.000000   \n",
       "\n",
       "       fireInsurance         total  \n",
       "count   10692.000000  1.069200e+04  \n",
       "mean       53.300879  5.490487e+03  \n",
       "std        47.768031  1.648473e+04  \n",
       "min         3.000000  4.990000e+02  \n",
       "25%        21.000000  2.061750e+03  \n",
       "50%        36.000000  3.581500e+03  \n",
       "75%        68.000000  6.768000e+03  \n",
       "max       677.000000  1.120000e+06  "
      ]
     },
     "execution_count": 8,
     "metadata": {},
     "output_type": "execute_result"
    }
   ],
   "source": [
    "dtf_houses.describe()"
   ]
  },
  {
   "cell_type": "markdown",
   "id": "1b5f6ed4",
   "metadata": {},
   "source": [
    "#### Describe Table - Cleaned"
   ]
  },
  {
   "cell_type": "code",
   "execution_count": 9,
   "id": "4ddd268b",
   "metadata": {},
   "outputs": [
    {
     "data": {
      "text/html": [
       "<div>\n",
       "<style scoped>\n",
       "    .dataframe tbody tr th:only-of-type {\n",
       "        vertical-align: middle;\n",
       "    }\n",
       "\n",
       "    .dataframe tbody tr th {\n",
       "        vertical-align: top;\n",
       "    }\n",
       "\n",
       "    .dataframe thead th {\n",
       "        text-align: right;\n",
       "    }\n",
       "</style>\n",
       "<table border=\"1\" class=\"dataframe\">\n",
       "  <thead>\n",
       "    <tr style=\"text-align: right;\">\n",
       "      <th></th>\n",
       "      <th>area</th>\n",
       "      <th>rooms</th>\n",
       "      <th>bathroom</th>\n",
       "      <th>parkingSpaces</th>\n",
       "      <th>floor</th>\n",
       "      <th>animal</th>\n",
       "      <th>furniture</th>\n",
       "      <th>hoa</th>\n",
       "      <th>rentAmount</th>\n",
       "      <th>propertyTax</th>\n",
       "      <th>fireInsurance</th>\n",
       "      <th>total</th>\n",
       "    </tr>\n",
       "  </thead>\n",
       "  <tbody>\n",
       "    <tr>\n",
       "      <th>count</th>\n",
       "      <td>9692.000000</td>\n",
       "      <td>9692.000000</td>\n",
       "      <td>9692.00000</td>\n",
       "      <td>9692.000000</td>\n",
       "      <td>9692.000000</td>\n",
       "      <td>9692.000000</td>\n",
       "      <td>9692.000000</td>\n",
       "      <td>9692.000000</td>\n",
       "      <td>9692.000000</td>\n",
       "      <td>9692.000000</td>\n",
       "      <td>9692.000000</td>\n",
       "      <td>9692.000000</td>\n",
       "    </tr>\n",
       "    <tr>\n",
       "      <th>mean</th>\n",
       "      <td>120.669728</td>\n",
       "      <td>2.388465</td>\n",
       "      <td>2.03343</td>\n",
       "      <td>1.420553</td>\n",
       "      <td>4.884544</td>\n",
       "      <td>0.772596</td>\n",
       "      <td>0.236071</td>\n",
       "      <td>715.272802</td>\n",
       "      <td>3341.562835</td>\n",
       "      <td>217.832233</td>\n",
       "      <td>45.996698</td>\n",
       "      <td>4320.839455</td>\n",
       "    </tr>\n",
       "    <tr>\n",
       "      <th>std</th>\n",
       "      <td>103.680561</td>\n",
       "      <td>1.123406</td>\n",
       "      <td>1.23918</td>\n",
       "      <td>1.438228</td>\n",
       "      <td>5.991186</td>\n",
       "      <td>0.419177</td>\n",
       "      <td>0.424688</td>\n",
       "      <td>737.682894</td>\n",
       "      <td>2758.010742</td>\n",
       "      <td>286.262611</td>\n",
       "      <td>39.607031</td>\n",
       "      <td>3345.010530</td>\n",
       "    </tr>\n",
       "    <tr>\n",
       "      <th>min</th>\n",
       "      <td>11.000000</td>\n",
       "      <td>1.000000</td>\n",
       "      <td>1.00000</td>\n",
       "      <td>0.000000</td>\n",
       "      <td>0.000000</td>\n",
       "      <td>0.000000</td>\n",
       "      <td>0.000000</td>\n",
       "      <td>0.000000</td>\n",
       "      <td>450.000000</td>\n",
       "      <td>0.000000</td>\n",
       "      <td>3.000000</td>\n",
       "      <td>499.000000</td>\n",
       "    </tr>\n",
       "    <tr>\n",
       "      <th>25%</th>\n",
       "      <td>54.000000</td>\n",
       "      <td>1.000000</td>\n",
       "      <td>1.00000</td>\n",
       "      <td>0.000000</td>\n",
       "      <td>1.000000</td>\n",
       "      <td>1.000000</td>\n",
       "      <td>0.000000</td>\n",
       "      <td>140.000000</td>\n",
       "      <td>1500.000000</td>\n",
       "      <td>33.000000</td>\n",
       "      <td>20.000000</td>\n",
       "      <td>1956.000000</td>\n",
       "    </tr>\n",
       "    <tr>\n",
       "      <th>50%</th>\n",
       "      <td>82.000000</td>\n",
       "      <td>2.000000</td>\n",
       "      <td>2.00000</td>\n",
       "      <td>1.000000</td>\n",
       "      <td>3.000000</td>\n",
       "      <td>1.000000</td>\n",
       "      <td>0.000000</td>\n",
       "      <td>500.000000</td>\n",
       "      <td>2470.000000</td>\n",
       "      <td>105.000000</td>\n",
       "      <td>33.000000</td>\n",
       "      <td>3235.000000</td>\n",
       "    </tr>\n",
       "    <tr>\n",
       "      <th>75%</th>\n",
       "      <td>150.000000</td>\n",
       "      <td>3.000000</td>\n",
       "      <td>3.00000</td>\n",
       "      <td>2.000000</td>\n",
       "      <td>8.000000</td>\n",
       "      <td>1.000000</td>\n",
       "      <td>0.000000</td>\n",
       "      <td>1000.000000</td>\n",
       "      <td>4200.000000</td>\n",
       "      <td>291.000000</td>\n",
       "      <td>58.000000</td>\n",
       "      <td>5523.000000</td>\n",
       "    </tr>\n",
       "    <tr>\n",
       "      <th>max</th>\n",
       "      <td>1000.000000</td>\n",
       "      <td>13.000000</td>\n",
       "      <td>10.00000</td>\n",
       "      <td>10.000000</td>\n",
       "      <td>301.000000</td>\n",
       "      <td>1.000000</td>\n",
       "      <td>1.000000</td>\n",
       "      <td>4100.000000</td>\n",
       "      <td>15000.000000</td>\n",
       "      <td>2500.000000</td>\n",
       "      <td>267.000000</td>\n",
       "      <td>20290.000000</td>\n",
       "    </tr>\n",
       "  </tbody>\n",
       "</table>\n",
       "</div>"
      ],
      "text/plain": [
       "              area        rooms    bathroom  parkingSpaces        floor  \\\n",
       "count  9692.000000  9692.000000  9692.00000    9692.000000  9692.000000   \n",
       "mean    120.669728     2.388465     2.03343       1.420553     4.884544   \n",
       "std     103.680561     1.123406     1.23918       1.438228     5.991186   \n",
       "min      11.000000     1.000000     1.00000       0.000000     0.000000   \n",
       "25%      54.000000     1.000000     1.00000       0.000000     1.000000   \n",
       "50%      82.000000     2.000000     2.00000       1.000000     3.000000   \n",
       "75%     150.000000     3.000000     3.00000       2.000000     8.000000   \n",
       "max    1000.000000    13.000000    10.00000      10.000000   301.000000   \n",
       "\n",
       "            animal    furniture          hoa    rentAmount  propertyTax  \\\n",
       "count  9692.000000  9692.000000  9692.000000   9692.000000  9692.000000   \n",
       "mean      0.772596     0.236071   715.272802   3341.562835   217.832233   \n",
       "std       0.419177     0.424688   737.682894   2758.010742   286.262611   \n",
       "min       0.000000     0.000000     0.000000    450.000000     0.000000   \n",
       "25%       1.000000     0.000000   140.000000   1500.000000    33.000000   \n",
       "50%       1.000000     0.000000   500.000000   2470.000000   105.000000   \n",
       "75%       1.000000     0.000000  1000.000000   4200.000000   291.000000   \n",
       "max       1.000000     1.000000  4100.000000  15000.000000  2500.000000   \n",
       "\n",
       "       fireInsurance         total  \n",
       "count    9692.000000   9692.000000  \n",
       "mean       45.996698   4320.839455  \n",
       "std        39.607031   3345.010530  \n",
       "min         3.000000    499.000000  \n",
       "25%        20.000000   1956.000000  \n",
       "50%        33.000000   3235.000000  \n",
       "75%        58.000000   5523.000000  \n",
       "max       267.000000  20290.000000  "
      ]
     },
     "execution_count": 9,
     "metadata": {},
     "output_type": "execute_result"
    }
   ],
   "source": [
    "dtf_clean_houses.describe()"
   ]
  },
  {
   "cell_type": "markdown",
   "id": "9fd48342",
   "metadata": {},
   "source": [
    "#### Boxplot - Original"
   ]
  },
  {
   "cell_type": "code",
   "execution_count": 10,
   "id": "d0b0cfaa",
   "metadata": {},
   "outputs": [
    {
     "data": {
      "text/plain": [
       "<AxesSubplot:xlabel='area'>"
      ]
     },
     "execution_count": 10,
     "metadata": {},
     "output_type": "execute_result"
    },
    {
     "data": {
      "image/png": "[encoded data removed]",
      "text/plain": [
       "<Figure size 432x288 with 1 Axes>"
      ]
     },
     "metadata": {
      "needs_background": "light"
     },
     "output_type": "display_data"
    }
   ],
   "source": [
    "sns.boxplot(dtf_houses.area)"
   ]
  },
  {
   "cell_type": "markdown",
   "id": "75d063f9",
   "metadata": {},
   "source": [
    "#### Boxplot - Cleaned"
   ]
  },
  {
   "cell_type": "code",
   "execution_count": 11,
   "id": "ae501afe",
   "metadata": {},
   "outputs": [
    {
     "data": {
      "text/plain": [
       "<AxesSubplot:xlabel='area'>"
      ]
     },
     "execution_count": 11,
     "metadata": {},
     "output_type": "execute_result"
    },
    {
     "data": {
      "image/png": "[encoded data removed]",
      "text/plain": [
       "<Figure size 432x288 with 1 Axes>"
      ]
     },
     "metadata": {
      "needs_background": "light"
     },
     "output_type": "display_data"
    }
   ],
   "source": [
    "sns.boxplot(dtf_clean_houses.area)"
   ]
  },
  {
   "cell_type": "markdown",
   "id": "2fae3143",
   "metadata": {},
   "source": [
    "#### Linear Regression Model"
   ]
  },
  {
   "cell_type": "code",
   "execution_count": 12,
   "id": "963b57b4",
   "metadata": {},
   "outputs": [],
   "source": [
    "# split dataset to train and test set\n",
    "dtf_train, dtf_test = train_test_split(dtf_houses, test_size=0.25)\n",
    "\n",
    "# clean train set and parse to a dataframe\n",
    "dft_train_clean = algorithms.k_mean_data_cleaning(\"datasets/brazilian_houses_dataset.csv\", dtf_train)\n",
    "dft_train_clean = pd.DataFrame(dft_train_clean, columns=houses_col)\n",
    "\n",
    "# parse origin train and test to a dataframe\n",
    "dtf_train = pd.DataFrame(dtf_train, columns=houses_col)\n",
    "dtf_test = pd.DataFrame(dtf_test, columns=houses_col)\n",
    "\n",
    "# create x and y for all the sets\n",
    "X_train_clean = dft_train_clean.drop(columns=[houses_y], axis=1)\n",
    "X_train = dtf_train.drop(columns=[houses_y], axis=1)\n",
    "X_test = dtf_test.drop(columns=[houses_y], axis=1)\n",
    "y_train_clean = dft_train_clean[houses_y]\n",
    "y_train = dtf_train[houses_y]\n",
    "y_test = dtf_test[houses_y]\n",
    "y_test = list(map(round, y_test))\n",
    "\n",
    "#create linear regration model\n",
    "model = LinearRegression()\n",
    "\n",
    "#train the model and predict y_hat for the origin and clean tain set\n",
    "prediction = model.fit(X_train, y_train).predict(X_test)\n",
    "prediction = list(map(round, prediction))\n",
    "\n",
    "prediction_clean = model.fit(X_train_clean, y_train_clean).predict(X_test)\n",
    "prediction_clean = list(map(round, prediction_clean))"
   ]
  },
  {
   "cell_type": "markdown",
   "id": "bcee0e2b",
   "metadata": {},
   "source": [
    "#### r2 score - Original "
   ]
  },
  {
   "cell_type": "code",
   "execution_count": 13,
   "id": "9d8bc9e8",
   "metadata": {},
   "outputs": [
    {
     "data": {
      "text/plain": [
       "0.9999990659088968"
      ]
     },
     "execution_count": 13,
     "metadata": {},
     "output_type": "execute_result"
    }
   ],
   "source": [
    "r2_score(y_test, prediction)"
   ]
  },
  {
   "cell_type": "markdown",
   "id": "3e34ccf0",
   "metadata": {},
   "source": [
    "#### r2 score - Cleaned"
   ]
  },
  {
   "cell_type": "code",
   "execution_count": 14,
   "id": "1e62a75e",
   "metadata": {},
   "outputs": [
    {
     "data": {
      "text/plain": [
       "0.9999990338373228"
      ]
     },
     "execution_count": 14,
     "metadata": {},
     "output_type": "execute_result"
    }
   ],
   "source": [
    "r2_score(y_test, prediction_clean)"
   ]
  },
  {
   "cell_type": "markdown",
   "id": "005bc389",
   "metadata": {},
   "source": [
    "#### Accuracy - Original "
   ]
  },
  {
   "cell_type": "code",
   "execution_count": 15,
   "id": "3abc22d0",
   "metadata": {},
   "outputs": [
    {
     "data": {
      "text/plain": [
       "87.72914328469884"
      ]
     },
     "execution_count": 15,
     "metadata": {},
     "output_type": "execute_result"
    }
   ],
   "source": [
    "counter = 0\n",
    "for y, y_hat in zip(y_test, prediction):\n",
    "    if (round(y) == round(y_hat)):\n",
    "        counter += 1\n",
    "counter * 100 / len(prediction)"
   ]
  },
  {
   "cell_type": "markdown",
   "id": "01544b92",
   "metadata": {},
   "source": [
    "#### Accuracy - Cleaned"
   ]
  },
  {
   "cell_type": "code",
   "execution_count": 16,
   "id": "ca726a3d",
   "metadata": {},
   "outputs": [
    {
     "data": {
      "text/plain": [
       "86.34493078937524"
      ]
     },
     "execution_count": 16,
     "metadata": {},
     "output_type": "execute_result"
    }
   ],
   "source": [
    "#compute the accuracy for the clean\n",
    "counter = 0\n",
    "for y, y_hat in zip(y_test, prediction_clean):\n",
    "    if (round(y) == round(y_hat)):\n",
    "        counter += 1\n",
    "counter * 100 / len(prediction)"
   ]
  }
 ],
 "metadata": {
  "kernelspec": {
   "display_name": "Python 3",
   "language": "python",
   "name": "python3"
  },
  "language_info": {
   "codemirror_mode": {
    "name": "ipython",
    "version": 3
   },
   "file_extension": ".py",
   "mimetype": "text/x-python",
   "name": "python",
   "nbconvert_exporter": "python",
   "pygments_lexer": "ipython3",
   "version": "3.8.8"
  }
 },
 "nbformat": 4,
 "nbformat_minor": 5
}
